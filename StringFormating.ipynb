{
 "cells": [
  {
   "cell_type": "markdown",
   "metadata": {},
   "source": [
    "we have .format meathod available in legacy versions of python, we can use this .format function in print function for string interpolation syntax is given as follows \n",
    "\n",
    "#print('Hello {}'.format('<value>')) \n",
    " \n",
    "curly brases represents that value that has to be replaced we can have multiple curly brases like as follows \n",
    "\n",
    "#print('Hello {}{}{}'.format('<value1>','<value2>','<value3>')) \n",
    "\n",
    "in this case we can pass the indexs into the curly brases to replace or format the string or we can assign the values to a variables and use those variables inside the curly bases. index in format function will start from 0 let have some look at the examples given below \n"
   ]
  },
  {
   "cell_type": "code",
   "execution_count": 1,
   "metadata": {},
   "outputs": [],
   "source": [
    "first_name=\"{0}\".format('Anil')"
   ]
  },
  {
   "cell_type": "code",
   "execution_count": 2,
   "metadata": {},
   "outputs": [
    {
     "data": {
      "text/plain": [
       "'Anil'"
      ]
     },
     "execution_count": 2,
     "metadata": {},
     "output_type": "execute_result"
    }
   ],
   "source": [
    "first_name"
   ]
  },
  {
   "cell_type": "markdown",
   "metadata": {},
   "source": [
    "format function we can use this string it can be in a assignment operation, this we can use in any strings "
   ]
  },
  {
   "cell_type": "code",
   "execution_count": 6,
   "metadata": {},
   "outputs": [
    {
     "name": "stdout",
     "output_type": "stream",
     "text": [
      "Anil.ponnam is devops developer\n"
     ]
    }
   ],
   "source": [
    "print(first_name+\"{0} {1} {2} {3}\".format('.ponnam','is','devops','developer'))"
   ]
  },
  {
   "cell_type": "markdown",
   "metadata": {},
   "source": [
    "This is how use format function with indexs "
   ]
  },
  {
   "cell_type": "code",
   "execution_count": 11,
   "metadata": {},
   "outputs": [
    {
     "name": "stdout",
     "output_type": "stream",
     "text": [
      "Anil.ponnam is devops developer\n"
     ]
    }
   ],
   "source": [
    "print(first_name+\"{p} {i} {d} {de}\".format(p='.ponnam',i='is',d='devops',de='developer'))"
   ]
  },
  {
   "cell_type": "markdown",
   "metadata": {},
   "source": [
    "we cant use same same variable to assign to string value we will get error as same variable is repeated inside format function"
   ]
  },
  {
   "cell_type": "code",
   "execution_count": 13,
   "metadata": {},
   "outputs": [],
   "source": [
    "#print(first_name+\"{0} {1} {2} {4}\".format('.ponnam','is','devops','developer'))"
   ]
  },
  {
   "cell_type": "markdown",
   "metadata": {},
   "source": [
    "we can't pass indexs greater than the indexs of format functions we pass the values we will get error as index out of range"
   ]
  },
  {
   "cell_type": "code",
   "execution_count": 15,
   "metadata": {},
   "outputs": [],
   "source": [
    "#print(first_name+\"{p} {i} {d} {des}\".format(p='.ponnam',i='is',d='devops',de='developer'))"
   ]
  },
  {
   "cell_type": "markdown",
   "metadata": {},
   "source": [
    "we can't pass the key which is is not avaible in format function it will throw error "
   ]
  },
  {
   "cell_type": "markdown",
   "metadata": {},
   "source": [
    "we can use fomat function to to format floating point values as well exmaples are given below "
   ]
  },
  {
   "cell_type": "code",
   "execution_count": 16,
   "metadata": {},
   "outputs": [
    {
     "name": "stdout",
     "output_type": "stream",
     "text": [
      "Hello Anil\n"
     ]
    }
   ],
   "source": [
    "print(\"Hello {}\".format(first_name))"
   ]
  },
  {
   "cell_type": "code",
   "execution_count": 17,
   "metadata": {},
   "outputs": [],
   "source": [
    "last_name='ponnam'"
   ]
  },
  {
   "cell_type": "code",
   "execution_count": 19,
   "metadata": {},
   "outputs": [
    {
     "name": "stdout",
     "output_type": "stream",
     "text": [
      "Hello Anil ponnam\n"
     ]
    }
   ],
   "source": [
    "print(\"Hello {} {}\".format(first_name,last_name))"
   ]
  },
  {
   "cell_type": "markdown",
   "metadata": {},
   "source": [
    "even if we dont provide indexs inside the curly brases then it will automatically includes indexs into curly brases based on the order of string values that we provide in format function"
   ]
  },
  {
   "cell_type": "markdown",
   "metadata": {},
   "source": [
    "we can fromat floating literal as well using using format function "
   ]
  },
  {
   "cell_type": "code",
   "execution_count": 34,
   "metadata": {},
   "outputs": [],
   "source": [
    "x=100/443"
   ]
  },
  {
   "cell_type": "code",
   "execution_count": 35,
   "metadata": {},
   "outputs": [
    {
     "data": {
      "text/plain": [
       "0.22573363431151242"
      ]
     },
     "execution_count": 35,
     "metadata": {},
     "output_type": "execute_result"
    }
   ],
   "source": [
    "x"
   ]
  },
  {
   "cell_type": "code",
   "execution_count": 36,
   "metadata": {},
   "outputs": [
    {
     "name": "stdout",
     "output_type": "stream",
     "text": [
      "x value is {x:1:5f}\n"
     ]
    }
   ],
   "source": [
    "print(\"x value is {x:1:5f}\")"
   ]
  },
  {
   "cell_type": "code",
   "execution_count": 39,
   "metadata": {},
   "outputs": [
    {
     "name": "stdout",
     "output_type": "stream",
     "text": [
      "x value is {x:1.7f}\n"
     ]
    }
   ],
   "source": [
    "print(\"x value is {x:1.7f}\")"
   ]
  },
  {
   "cell_type": "code",
   "execution_count": 43,
   "metadata": {},
   "outputs": [
    {
     "name": "stdout",
     "output_type": "stream",
     "text": [
      "x value is 0.225734\n"
     ]
    }
   ],
   "source": [
    "print(\"x value is {0:1.6f}\".format(x))"
   ]
  },
  {
   "cell_type": "markdown",
   "metadata": {},
   "source": [
    "syntax is {value:width.floatRange or precession}.format  \n",
    "value can be empty or it can take index \n",
    "width with decide the space between the string and precession will decide how many values should be considered after decimal point , incase if last floating point precission is greater than 5 then it will round the value example\n",
    "\n",
    "if the result is 0.12378  final result will come as \n",
    "0.1238 "
   ]
  },
  {
   "cell_type": "markdown",
   "metadata": {},
   "source": [
    "Formating litterals are introuduced in 3.6 "
   ]
  },
  {
   "cell_type": "code",
   "execution_count": 46,
   "metadata": {},
   "outputs": [
    {
     "name": "stdout",
     "output_type": "stream",
     "text": [
      "Hello Anil ponnam\n"
     ]
    }
   ],
   "source": [
    "print(f\"Hello {first_name} {last_name}\")"
   ]
  },
  {
   "cell_type": "code",
   "execution_count": 48,
   "metadata": {},
   "outputs": [],
   "source": [
    "subject =f\"{first_name}.{last_name} hope you are Good\""
   ]
  },
  {
   "cell_type": "code",
   "execution_count": 49,
   "metadata": {},
   "outputs": [
    {
     "data": {
      "text/plain": [
       "'Anil.ponnam hope you are Good'"
      ]
     },
     "execution_count": 49,
     "metadata": {},
     "output_type": "execute_result"
    }
   ],
   "source": [
    "subject"
   ]
  },
  {
   "cell_type": "markdown",
   "metadata": {},
   "source": [
    "we can use f-strings with multiple variables as explained below"
   ]
  },
  {
   "cell_type": "code",
   "execution_count": 50,
   "metadata": {},
   "outputs": [],
   "source": [
    "age=27"
   ]
  },
  {
   "cell_type": "code",
   "execution_count": 51,
   "metadata": {},
   "outputs": [
    {
     "name": "stdout",
     "output_type": "stream",
     "text": [
      "Anil.ponnam is 27 years old.\n"
     ]
    }
   ],
   "source": [
    "print(f\"{first_name}.{last_name} is {age} years old.\")"
   ]
  },
  {
   "cell_type": "code",
   "execution_count": null,
   "metadata": {},
   "outputs": [],
   "source": []
  }
 ],
 "metadata": {
  "kernelspec": {
   "display_name": "Python 3",
   "language": "python",
   "name": "python3"
  },
  "language_info": {
   "codemirror_mode": {
    "name": "ipython",
    "version": 3
   },
   "file_extension": ".py",
   "mimetype": "text/x-python",
   "name": "python",
   "nbconvert_exporter": "python",
   "pygments_lexer": "ipython3",
   "version": "3.6.5"
  }
 },
 "nbformat": 4,
 "nbformat_minor": 2
}
